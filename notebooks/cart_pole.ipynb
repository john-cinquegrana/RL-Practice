{
 "cells": [
  {
   "cell_type": "markdown",
   "metadata": {},
   "source": [
    "# Cart-Poly Policy Training\n",
    "\n",
    "A simple algorithm to optimize the policy function for the [CartPole](https://gymnasium.farama.org/environments/classic_control/cart_pole/) problem in gymnasium.\n"
   ]
  },
  {
   "cell_type": "code",
   "execution_count": 1,
   "metadata": {},
   "outputs": [],
   "source": [
    "import gymnasium as gym\n",
    "\n",
    "# Attach to the cart pole environment and see what it is\n",
    "env = gym.make('CartPole-v1', render_mode='human')"
   ]
  },
  {
   "cell_type": "code",
   "execution_count": 2,
   "metadata": {},
   "outputs": [],
   "source": [
    "# Create the base variables that are being observed\n",
    "observation = []\n",
    "info = {}\n",
    "terminated = False\n",
    "truncated = False\n",
    "reward = 0\n",
    "# These values will get updated in every step of the environment"
   ]
  },
  {
   "cell_type": "code",
   "execution_count": 3,
   "metadata": {},
   "outputs": [
    {
     "name": "stdout",
     "output_type": "stream",
     "text": [
      "Action space:  Discrete(2)\n",
      "Observation space:  Box([-4.8000002e+00 -3.4028235e+38 -4.1887903e-01 -3.4028235e+38], [4.8000002e+00 3.4028235e+38 4.1887903e-01 3.4028235e+38], (4,), float32)\n",
      "There are 2 actions and 4 observations\n"
     ]
    }
   ],
   "source": [
    "# Grab the action space, which we expect to be discrete\n",
    "action_space = env.action_space\n",
    "print(\"Action space: \", action_space)\n",
    "num_actions = action_space.n\n",
    "\n",
    "# Grab the observation space, which we expect to be discrete\n",
    "observation_space = env.observation_space\n",
    "print(\"Observation space: \", observation_space)\n",
    "num_observations = observation_space.shape[0]\n",
    "\n",
    "print(f\"There are {num_actions} actions and {num_observations} observations\")"
   ]
  },
  {
   "cell_type": "code",
   "execution_count": 4,
   "metadata": {},
   "outputs": [],
   "source": [
    "# Create constants that will exist throughout the model\n",
    "hidden_layer_size = 8\n"
   ]
  },
  {
   "cell_type": "code",
   "execution_count": 5,
   "metadata": {},
   "outputs": [],
   "source": [
    "observation, info = env.reset(seed=42)"
   ]
  },
  {
   "cell_type": "code",
   "execution_count": 6,
   "metadata": {},
   "outputs": [
    {
     "name": "stdout",
     "output_type": "stream",
     "text": [
      "[ 0.0273956  -0.00611216  0.03585979  0.0197368 ]\n",
      "{}\n"
     ]
    }
   ],
   "source": [
    "print(observation)\n",
    "print(info)"
   ]
  },
  {
   "cell_type": "code",
   "execution_count": 7,
   "metadata": {},
   "outputs": [],
   "source": [
    "# Setup inital values for running\n",
    "terminated = False\n",
    "truncated = False"
   ]
  },
  {
   "cell_type": "code",
   "execution_count": 8,
   "metadata": {},
   "outputs": [
    {
     "name": "stdout",
     "output_type": "stream",
     "text": [
      "[ 0.02727336 -0.20172954  0.03625453  0.32351476] 1.0 False False {}\n",
      "[ 0.02323877 -0.00714208  0.04272482  0.04248186] 1.0 False False {}\n",
      "[ 0.02309593 -0.20284982  0.04357446  0.34833285] 1.0 False False {}\n",
      "[ 0.01903893 -0.39856356  0.05054112  0.65443164] 1.0 False False {}\n",
      "[ 0.01106766 -0.5943515   0.06362975  0.96259123] 1.0 False False {}\n",
      "[-0.00081937 -0.40013957  0.08288158  0.6905575 ] 1.0 False False {}\n",
      "[-0.00882216 -0.20625953  0.09669273  0.425075  ] 1.0 False False {}\n",
      "[-0.01294735 -0.0126307   0.10519423  0.16437183] 1.0 False False {}\n",
      "[-0.01319996  0.18084042  0.10848166 -0.09336053] 1.0 False False {}\n",
      "[-0.00958315  0.37425378  0.10661445 -0.34994406] 1.0 False False {}\n",
      "[-0.00209808  0.5677107   0.09961557 -0.6071965 ] 1.0 False False {}\n",
      "[ 0.00925613  0.76130915  0.08747164 -0.8669159 ] 1.0 False False {}\n",
      "[ 0.02448232  0.5651127   0.07013332 -0.54806256] 1.0 False False {}\n",
      "[ 0.03578457  0.3690792   0.05917207 -0.23413287] 1.0 False False {}\n",
      "[ 0.04316616  0.563308    0.05448942 -0.5075797 ] 1.0 False False {}\n",
      "[ 0.05443231  0.3674623   0.04433782 -0.19823524] 1.0 False False {}\n",
      "[0.06178156 0.17173517 0.04037311 0.10809801] 1.0 False False {}\n",
      "[ 0.06521627  0.366256    0.04253507 -0.17157902] 1.0 False False {}\n",
      "[0.07254139 0.1705519  0.03910349 0.13421318] 1.0 False False {}\n",
      "[ 0.07595243  0.36509255  0.04178776 -0.14588122] 1.0 False False {}\n",
      "[0.08325427 0.16939785 0.03887013 0.15968658] 1.0 False False {}\n",
      "[ 0.08664223  0.36394238  0.04206387 -0.12048484] 1.0 False False {}\n",
      "[0.09392108 0.1682438  0.03965417 0.1851665 ] 1.0 False False {}\n",
      "[ 0.09728596 -0.02742243  0.0433575   0.49009037] 1.0 False False {}\n",
      "[ 0.0967375  -0.22312835  0.05315931  0.7961165 ] 1.0 False False {}\n",
      "[ 0.09227494 -0.02877464  0.06908163  0.5206192 ] 1.0 False False {}\n",
      "[ 0.09169944 -0.22479758  0.07949402  0.83424616] 1.0 False False {}\n",
      "[ 0.0872035  -0.03084647  0.09617894  0.5675849 ] 1.0 False False {}\n",
      "[0.08658656 0.16280414 0.10753064 0.30668446] 1.0 False False {}\n",
      "[ 0.08984265 -0.03367266  0.11366433  0.63125056] 1.0 False False {}\n",
      "[0.0891692  0.15969527 0.12628934 0.37641573] 1.0 False False {}\n",
      "[ 0.0923631  -0.03697296  0.13381766  0.70609915] 1.0 False False {}\n",
      "[ 0.09162364 -0.23367013  0.14793964  1.0377322 ] 1.0 False False {}\n",
      "[ 0.08695024 -0.0407908   0.16869429  0.79490924] 1.0 False False {}\n",
      "[0.08613442 0.151664   0.18459247 0.5596861 ] 1.0 False False {}\n",
      "[0.0891677  0.34378088 0.1957862  0.3303691 ] 1.0 False False {}\n",
      "[0.09604332 0.14648932 0.20239358 0.67784667] 1.0 False False {}\n",
      "[0.0989731  0.33831024 0.2159505  0.4550867 ] 1.0 True False {}\n",
      "[-0.03963102  0.24230015  0.0266861  -0.25572422] 1.0 False False {}\n",
      "[-0.03478502  0.04680755  0.02157161  0.04525506] 1.0 False False {}\n",
      "[-0.03384887 -0.14861698  0.02247672  0.34466523] 1.0 False False {}\n",
      "[-0.03682121  0.04617814  0.02937002  0.05915394] 1.0 False False {}\n",
      "[-0.03589764  0.24086694  0.0305531  -0.22411977] 1.0 False False {}\n",
      "[-0.0310803   0.04532193  0.0260707   0.07804206] 1.0 False False {}\n",
      "[-0.03017387  0.24006063  0.02763155 -0.2063028 ] 1.0 False False {}\n",
      "[-0.02537265  0.04455467  0.02350549  0.09496683] 1.0 False False {}\n",
      "[-0.02448156 -0.15089615  0.02540483  0.39497206] 1.0 False False {}\n",
      "[-0.02749948  0.04385629  0.03330427  0.11040588] 1.0 False False {}\n",
      "[-0.02662236  0.23848556  0.03551238 -0.1715865 ] 1.0 False False {}\n",
      "[-0.02185265  0.0428738   0.03208065  0.1320846 ] 1.0 False False {}\n",
      "[-0.02099517 -0.15269265  0.03472235  0.43471342] 1.0 False False {}\n",
      "[-0.02404902 -0.3482885   0.04341662  0.7381367 ] 1.0 False False {}\n",
      "[-0.03101479 -0.5439823   0.05817935  1.0441612 ] 1.0 False False {}\n",
      "[-0.04189444 -0.73982644  0.07906257  1.3545254 ] 1.0 False False {}\n",
      "[-0.05669097 -0.9358467   0.10615309  1.6708575 ] 1.0 False False {}\n",
      "[-0.0754079  -1.1320299   0.13957024  1.9946263 ] 1.0 False False {}\n",
      "[-0.0980485  -0.9386176   0.17946276  1.7482296 ] 1.0 False False {}\n",
      "[-0.11682085 -0.7459315   0.21442735  1.5163217 ] 1.0 True False {}\n",
      "[-0.03728786 -0.19989572 -0.01206667  0.33125514] 1.0 False False {}\n",
      "[-0.04128578 -0.39484385 -0.00544156  0.62010854] 1.0 False False {}\n",
      "[-0.04918266 -0.19964632  0.00696061  0.32571676] 1.0 False False {}\n",
      "[-0.05317558 -0.3948667   0.01347494  0.62058663] 1.0 False False {}\n",
      "[-0.06107292 -0.5901742   0.02588667  0.9174828 ] 1.0 False False {}\n",
      "[-0.0728764  -0.7856364   0.04423633  1.2181877 ] 1.0 False False {}\n",
      "[-0.08858913 -0.59111184  0.06860008  0.93968755] 1.0 False False {}\n",
      "[-0.10041136 -0.7870881   0.08739384  1.2531132 ] 1.0 False False {}\n",
      "[-0.11615313 -0.5931875   0.1124561   0.98903334] 1.0 False False {}\n",
      "[-0.12801687 -0.39973596  0.13223676  0.7336814 ] 1.0 False False {}\n",
      "[-0.1360116  -0.2066648   0.1469104   0.48536745] 1.0 False False {}\n",
      "[-0.1401449  -0.40352118  0.15661775  0.8205077 ] 1.0 False False {}\n",
      "[-0.14821532 -0.6003998   0.1730279   1.1580687 ] 1.0 False False {}\n",
      "[-0.16022332 -0.79730165  0.19618927  1.4996281 ] 1.0 False False {}\n",
      "[-0.17616935 -0.6050286   0.22618183  1.2740614 ] 1.0 True False {}\n",
      "[ 0.01503204  0.2274788  -0.0062041  -0.32173902] 1.0 False False {}\n",
      "[ 0.01958161  0.42268854 -0.01263888 -0.616372  ] 1.0 False False {}\n",
      "[ 0.02803538  0.22774543 -0.02496632 -0.3276964 ] 1.0 False False {}\n",
      "[ 0.03259029  0.42321375 -0.03152025 -0.6281469 ] 1.0 False False {}\n",
      "[ 0.04105457  0.6187611  -0.04408319 -0.9305876 ] 1.0 False False {}\n",
      "[ 0.05342979  0.8144494  -0.06269494 -1.2367911 ] 1.0 False False {}\n",
      "[ 0.06971878  0.62018657 -0.08743077 -0.9643896 ] 1.0 False False {}\n",
      "[ 0.0821225   0.42634103 -0.10671856 -0.70040387] 1.0 False False {}\n",
      "[ 0.09064933  0.23284763 -0.12072663 -0.44313067] 1.0 False False {}\n",
      "[ 0.09530628  0.42945248 -0.12958924 -0.7712989 ] 1.0 False False {}\n",
      "[ 0.10389533  0.23632927 -0.14501522 -0.5220358 ] 1.0 False False {}\n",
      "[ 0.10862192  0.43316275 -0.15545595 -0.85667217] 1.0 False False {}\n",
      "[ 0.11728517  0.24046166 -0.17258938 -0.6166264 ] 1.0 False False {}\n",
      "[ 0.12209441  0.43752098 -0.1849219  -0.95831364] 1.0 False False {}\n",
      "[ 0.13084483  0.2453018  -0.20408818 -0.7289584 ] 1.0 False False {}\n",
      "[ 0.13575086  0.05349759 -0.21866736 -0.50680935] 1.0 True False {}\n",
      "[ 0.00458611 -0.2391944   0.03302645  0.31600383] 1.0 False False {}\n",
      "[-1.9777477e-04 -4.3477082e-01  3.9346524e-02  6.1891651e-01] 1.0 False False {}\n",
      "[-0.00889319 -0.6304196   0.05172485  0.92372745] 1.0 False False {}\n",
      "[-0.02150158 -0.43603316  0.0701994   0.64773804] 1.0 False False {}\n",
      "[-0.03022225 -0.24195582  0.08315416  0.3779607 ] 1.0 False False {}\n",
      "[-0.03506136 -0.0481072   0.09071337  0.11261167] 1.0 False False {}\n",
      "[-0.03602351 -0.244404    0.09296561  0.43247938] 1.0 False False {}\n",
      "[-0.04091159 -0.4407108   0.1016152   0.7529606 ] 1.0 False False {}\n",
      "[-0.0497258  -0.63707614  0.11667441  1.0758127 ] 1.0 False False {}\n",
      "[-0.06246733 -0.44367263  0.13819066  0.82190424] 1.0 False False {}\n",
      "[-0.07134078 -0.64038736  0.15462875  1.1546623 ] 1.0 False False {}\n",
      "Resetting the environment...\n"
     ]
    },
    {
     "data": {
      "text/plain": [
       "(array([ 0.02580877, -0.0145474 ,  0.0470698 ,  0.03931211], dtype=float32),\n",
       " {})"
      ]
     },
     "execution_count": 8,
     "metadata": {},
     "output_type": "execute_result"
    },
    {
     "ename": "",
     "evalue": "",
     "output_type": "error",
     "traceback": [
      "\u001b[1;31mThe Kernel crashed while executing code in the current cell or a previous cell. \n",
      "\u001b[1;31mPlease review the code in the cell(s) to identify a possible cause of the failure. \n",
      "\u001b[1;31mClick <a href='https://aka.ms/vscodeJupyterKernelCrash'>here</a> for more info. \n",
      "\u001b[1;31mView Jupyter <a href='command:jupyter.viewOutput'>log</a> for further details."
     ]
    }
   ],
   "source": [
    "# Render so we can see what is happening\n",
    "# env.render() Doesn't need to be called if human is specified\n",
    "# Make 1000 iterations on the environment to see how we do\n",
    "for _ in range(1000):\n",
    "    # Choose a random action from the action space\n",
    "    action = env.action_space.sample()\n",
    "    # Get back the observation, reward, and whether the episode is terminated\n",
    "    observation, reward, terminated, truncated, info = env.step(action)\n",
    "    print(observation, reward, terminated, truncated, info)\n",
    "\n",
    "    if terminated or truncated:\n",
    "        env.reset()\n",
    "print('Resetting the environment...')\n",
    "env.reset()\n",
    "# print('Closing the environment...')\n",
    "# env.close()\n"
   ]
  },
  {
   "cell_type": "code",
   "execution_count": null,
   "metadata": {},
   "outputs": [],
   "source": [
    "import pygame\n",
    "\n",
    "# Make sure the display closes\n",
    "pygame.display.quit()"
   ]
  }
 ],
 "metadata": {
  "kernelspec": {
   "display_name": "Python 3",
   "language": "python",
   "name": "python3"
  },
  "language_info": {
   "codemirror_mode": {
    "name": "ipython",
    "version": 3
   },
   "file_extension": ".py",
   "mimetype": "text/x-python",
   "name": "python",
   "nbconvert_exporter": "python",
   "pygments_lexer": "ipython3",
   "version": "3.12.4"
  }
 },
 "nbformat": 4,
 "nbformat_minor": 2
}
